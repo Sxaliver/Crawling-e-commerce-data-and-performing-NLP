{
 "cells": [
  {
   "cell_type": "code",
   "execution_count": 5,
   "id": "fa513112-0c1a-4f4a-87c6-7b1af3a5d6dc",
   "metadata": {},
   "outputs": [
    {
     "name": "stdout",
     "output_type": "stream",
     "text": [
      "                                                text location\n",
      "0  你说得对，但是980Pro是8月9号装上去，9月11号与9月21号能连掉两次的高端ssd；一...       安徽\n",
      "1  买两个盘，用三星魔术师测试写入读取持续高温到85到88度，高温，我就退货，但是京东售后收到货...       安徽\n",
      "2                                     言过其实，完全没有大厂的品质       安徽\n",
      "3                                             少了一百个g       安徽\n",
      "4                                             这速度正常吗       安徽\n"
     ]
    }
   ],
   "source": [
    "import pandas as pd\n",
    "\n",
    "# 读取Excel文件\n",
    "file_path = \"jingdong_comments.xlsx\"\n",
    "data = pd.read_excel(file_path, usecols=[\"text\", \"location\"])\n",
    "\n",
    "# 检查前几行数据\n",
    "print(data.head())\n"
   ]
  },
  {
   "cell_type": "code",
   "execution_count": 6,
   "id": "fb961c7c-3461-4d90-890a-31da5d04641c",
   "metadata": {},
   "outputs": [],
   "source": [
    "import spacy\n",
    "\n",
    "# 加载spaCy中文模型\n",
    "nlp = spacy.load(\"zh_core_web_sm\")\n"
   ]
  },
  {
   "cell_type": "code",
   "execution_count": 23,
   "id": "694d0286-5c01-4257-b036-f596d2930dee",
   "metadata": {},
   "outputs": [
    {
     "name": "stdout",
     "output_type": "stream",
     "text": [
      "                                                text classified_features\n",
      "0  你说得对，但是980Pro是8月9号装上去，9月11号与9月21号能连掉两次的高端ssd；一...       [after_sales]\n",
      "1  买两个盘，用三星魔术师测试写入读取持续高温到85到88度，高温，我就退货，但是京东售后收到货...       [after_sales]\n",
      "2                                     言过其实，完全没有大厂的品质                  []\n",
      "3                                             少了一百个g                  []\n",
      "4                                             这速度正常吗                  []\n"
     ]
    }
   ],
   "source": [
    "# feature keyword\n",
    "feature_categories = {\n",
    "    \"capacity_issues\": [\"容量\", \"内存\", \"存储不足\", \"空间不足\", \"内存缩水\"],\n",
    "    \"price_warranty\": [\"价格\", \"保修\", \"保修期\", \"保修问题\", \"贵\"],\n",
    "    \"quality_issues\": [\"质量\", \"传输速度\", \"掉盘\", \"过热\", \"坏道\"],\n",
    "    \"cost_effective\": [\"性价比\", \"不划算\"],\n",
    "    \"logistics_problems\": [\"物流\", \"包装\", \"配送\", \"送货慢\"],\n",
    "    \"after_sales\": [\"售后\", \"退货\", \"退换货\", \"客服\", \"服务问题\"],\n",
    "    \"missing_parts\": [\"零件\", \"螺丝\", \"配件缺失\", \"没发\"],\n",
    "    \"not_national_product\": [\"不是国行\", \"非国行\", \"水货\"]\n",
    "}\n",
    "\n",
    "def classify_features(text):\n",
    "    matched_features = []\n",
    "    for category, keywords in feature_categories.items():\n",
    "        for keyword in keywords:\n",
    "            if keyword in text:\n",
    "                matched_features.append(category)\n",
    "                break  # 每个类别只需匹配一次\n",
    "    return matched_features\n",
    "\n",
    "data[\"classified_features\"] = data[\"text\"].apply(classify_features)\n",
    "\n",
    "print(data[[\"text\", \"classified_features\"]].head())"
   ]
  },
  {
   "cell_type": "code",
   "execution_count": 33,
   "id": "fedd4ccd-d6ea-4c96-ae95-5c4c37698219",
   "metadata": {},
   "outputs": [
    {
     "name": "stdout",
     "output_type": "stream",
     "text": [
      "                                                text classified_features  \\\n",
      "0  你说得对，但是980Pro是8月9号装上去，9月11号与9月21号能连掉两次的高端ssd；一...       [after_sales]   \n",
      "1  买两个盘，用三星魔术师测试写入读取持续高温到85到88度，高温，我就退货，但是京东售后收到货...       [after_sales]   \n",
      "2                                     言过其实，完全没有大厂的品质                  []   \n",
      "3                                             少了一百个g                  []   \n",
      "4                                             这速度正常吗                  []   \n",
      "\n",
      "            feature_sentiments  \n",
      "0  {'after_sales': 'positive'}  \n",
      "1  {'after_sales': 'positive'}  \n",
      "2                           {}  \n",
      "3                           {}  \n",
      "4                           {}  \n"
     ]
    }
   ],
   "source": [
    "def sentiment_analysis(text):\n",
    "    positive_words = [\"好\", \"优秀\", \"快\", \"满意\", \"清晰\",\"\"]\n",
    "    negative_words = [\"差\", \"慢\", \"不满意\", \"模糊\", \"贵\",\"韭菜\",\"少\",\"抠门\",\"垃圾\"]\n",
    "    score = 0\n",
    "    for word in positive_words:\n",
    "        if word in text:\n",
    "            score += 1\n",
    "    for word in negative_words:\n",
    "        if word in text:\n",
    "            score -= 1\n",
    "    return \"positive\" if score > 0 else \"negative\" if score < 0 else \"neutral\"\n",
    "\n",
    "# 结合特性分类的情感分析\n",
    "def feature_sentiment_analysis(row):\n",
    "    sentiments = {}\n",
    "    for feature in row[\"classified_features\"]:\n",
    "        sentiments[feature] = sentiment_analysis(row[\"text\"])\n",
    "    return sentiments\n",
    "\n",
    "# 添加情感分析结果\n",
    "data[\"feature_sentiments\"] = data.apply(feature_sentiment_analysis, axis=1)\n",
    "\n",
    "# 查看结果\n",
    "print(data[[\"text\", \"classified_features\", \"feature_sentiments\"]].head())"
   ]
  },
  {
   "cell_type": "code",
   "execution_count": 35,
   "id": "120d1ce1-4032-49b0-baff-0e8fbe24d338",
   "metadata": {},
   "outputs": [
    {
     "name": "stdout",
     "output_type": "stream",
     "text": [
      "分析结果已保存到 jingdong_comments_feature_analysis.xlsx\n"
     ]
    }
   ],
   "source": [
    "output_path = \"jingdong_comments_feature_analysis.xlsx\"\n",
    "data.to_excel(output_path, index=False)\n",
    "print(f\"分析结果已保存到 {output_path}\")"
   ]
  },
  {
   "cell_type": "code",
   "execution_count": null,
   "id": "e6bcbc9b-172e-4988-8232-2cbdc521fa24",
   "metadata": {},
   "outputs": [],
   "source": []
  }
 ],
 "metadata": {
  "kernelspec": {
   "display_name": "Python (93kernel)",
   "language": "python",
   "name": "93kernel"
  },
  "language_info": {
   "codemirror_mode": {
    "name": "ipython",
    "version": 3
   },
   "file_extension": ".py",
   "mimetype": "text/x-python",
   "name": "python",
   "nbconvert_exporter": "python",
   "pygments_lexer": "ipython3",
   "version": "3.12.7"
  }
 },
 "nbformat": 4,
 "nbformat_minor": 5
}
