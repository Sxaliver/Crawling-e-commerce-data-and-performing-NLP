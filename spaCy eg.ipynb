{
 "cells": [
  {
   "cell_type": "code",
   "execution_count": 3,
   "id": "0bcbcbc6-ed28-4d82-8601-7e256c888c07",
   "metadata": {},
   "outputs": [],
   "source": [
    "import spacy\n",
    "from textblob import TextBlob\n",
    "\n",
    "nlp = spacy.load(\"en_core_web_sm\")"
   ]
  },
  {
   "cell_type": "code",
   "execution_count": 5,
   "id": "e7d089e0-f406-49c2-8611-8b5aea55f7a1",
   "metadata": {},
   "outputs": [],
   "source": [
    "#simply copy from X 6/10/2024 am\n",
    "tweets = [\n",
    "    \"the things I’d do for a 2024 ravens super bowl are legitimately unspeakable, fr like not hyperbole\",\n",
    "    \"Lions are going to the superbowl and winning it!! Only place the Bills will be going is to the Supermarket to buy some beer and watch the game from there couch while the Detroit Lions beat down the Baltimore Ravens in a Revenge Game from last season!!!!!!!!!!!\",\n",
    "    \"Remember how media reacted when Biden decided to skip pre superbowl interview so everyone could enjoy their games without thinking about politics\",\n",
    "    \"This is a political gathering fighting for a better America. But the other one was a super bowl gathering for fun only.\",\n",
    "    \"But I am curious. If performing at the Superbowl isn't anti-industry and taints the culture, then why are people mad Lil Wayne wasn't chosen and still calling him a legend?\",\n",
    "    \"National Championship Game will be Miami & Ohio State & I’ve been saying it since week 1. And since week 1 I’ve also been saying Minnesota will take on the Buffalo Bills in the Super Bowl in the battle of Super Bowl losers. Write that down.\",\n",
    "    \"Passion. That's why he's an NCAA and Superbowl champ and a hall of famer. He gets it. If you don't like this then you don't get it\",\n",
    "    \"A Lot of cities would luv a Super Bowl in the last  decade @ianimal69 Luv youse 🦅🙏🏼\",\n",
    "    \"no such thing as out of reach, look what 49ers did to move up and they were super bowl contending team. Mark better not fck this up \",\n",
    "    \"The only knock on Matt Ryan I’m seeing is he’s white. He holds just about every single franchise record, he is the only player to win a MVP in franchise history, took us to the Super Bowl. Vick was great but this really shouldn’t be a debate.\"\n",
    "]"
   ]
  },
  {
   "cell_type": "code",
   "execution_count": 7,
   "id": "a640eab6-1f69-42fe-8d9d-e9fbc0007b4f",
   "metadata": {},
   "outputs": [
    {
     "name": "stdout",
     "output_type": "stream",
     "text": [
      "Tweet: the things I’d do for a 2024 ravens super bowl are legitimately unspeakable, fr like not hyperbole\n",
      "Sentiment Polarity: 0.3333333333333333\n",
      "Sentiment Subjectivity: 0.6666666666666666\n",
      "--------------------------------------------------\n",
      "Tweet: Lions are going to the superbowl and winning it!! Only place the Bills will be going is to the Supermarket to buy some beer and watch the game from there couch while the Detroit Lions beat down the Baltimore Ravens in a Revenge Game from last season!!!!!!!!!!!\n",
      "Sentiment Polarity: -0.029050925925925935\n",
      "Sentiment Subjectivity: 0.4842592592592592\n",
      "--------------------------------------------------\n",
      "Tweet: Remember how media reacted when Biden decided to skip pre superbowl interview so everyone could enjoy their games without thinking about politics\n",
      "Sentiment Polarity: 0.4\n",
      "Sentiment Subjectivity: 0.5\n",
      "--------------------------------------------------\n",
      "Tweet: This is a political gathering fighting for a better America. But the other one was a super bowl gathering for fun only.\n",
      "Sentiment Polarity: 0.16805555555555554\n",
      "Sentiment Subjectivity: 0.47361111111111115\n",
      "--------------------------------------------------\n",
      "Tweet: But I am curious. If performing at the Superbowl isn't anti-industry and taints the culture, then why are people mad Lil Wayne wasn't chosen and still calling him a legend?\n",
      "Sentiment Polarity: -0.3625\n",
      "Sentiment Subjectivity: 1.0\n",
      "--------------------------------------------------\n",
      "Tweet: National Championship Game will be Miami & Ohio State & I’ve been saying it since week 1. And since week 1 I’ve also been saying Minnesota will take on the Buffalo Bills in the Super Bowl in the battle of Super Bowl losers. Write that down.\n",
      "Sentiment Polarity: -0.01777777777777779\n",
      "Sentiment Subjectivity: 0.4444444444444445\n",
      "--------------------------------------------------\n",
      "Tweet: Passion. That's why he's an NCAA and Superbowl champ and a hall of famer. He gets it. If you don't like this then you don't get it\n",
      "Sentiment Polarity: 0.0\n",
      "Sentiment Subjectivity: 0.0\n",
      "--------------------------------------------------\n",
      "Tweet: A Lot of cities would luv a Super Bowl in the last  decade @ianimal69 Luv youse 🦅🙏🏼\n",
      "Sentiment Polarity: 0.16666666666666666\n",
      "Sentiment Subjectivity: 0.36666666666666664\n",
      "--------------------------------------------------\n",
      "Tweet: no such thing as out of reach, look what 49ers did to move up and they were super bowl contending team. Mark better not fck this up \n",
      "Sentiment Polarity: 0.27777777777777773\n",
      "Sentiment Subjectivity: 0.5555555555555555\n",
      "--------------------------------------------------\n",
      "Tweet: The only knock on Matt Ryan I’m seeing is he’s white. He holds just about every single franchise record, he is the only player to win a MVP in franchise history, took us to the Super Bowl. Vick was great but this really shouldn’t be a debate.\n",
      "Sentiment Polarity: 0.25773809523809527\n",
      "Sentiment Subjectivity: 0.5288690476190476\n",
      "--------------------------------------------------\n"
     ]
    }
   ],
   "source": [
    "for tweet in tweets:\n",
    "    doc = nlp(tweet)\n",
    "    sentiment = TextBlob(doc.text).sentiment\n",
    "    print(f\"Tweet: {doc.text}\")\n",
    "    print(f\"Sentiment Polarity: {sentiment.polarity}\")\n",
    "    print(f\"Sentiment Subjectivity: {sentiment.subjectivity}\")\n",
    "    print(\"-\" * 50)\n"
   ]
  },
  {
   "cell_type": "code",
   "execution_count": null,
   "id": "54516075-aaf2-4b96-b8c0-ab0b8db454af",
   "metadata": {},
   "outputs": [],
   "source": []
  }
 ],
 "metadata": {
  "kernelspec": {
   "display_name": "Python 3 (ipykernel)",
   "language": "python",
   "name": "python3"
  },
  "language_info": {
   "codemirror_mode": {
    "name": "ipython",
    "version": 3
   },
   "file_extension": ".py",
   "mimetype": "text/x-python",
   "name": "python",
   "nbconvert_exporter": "python",
   "pygments_lexer": "ipython3",
   "version": "3.12.4"
  }
 },
 "nbformat": 4,
 "nbformat_minor": 5
}
